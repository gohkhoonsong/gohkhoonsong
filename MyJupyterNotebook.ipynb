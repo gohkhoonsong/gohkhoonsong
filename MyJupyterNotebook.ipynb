{
 "cells": [
  {
   "cell_type": "markdown",
   "id": "85b0ee4c-4baf-436b-ae13-0278228ac787",
   "metadata": {},
   "source": [
    "My Jupyter Notebook on IBM Watson Studio"
   ]
  },
  {
   "cell_type": "markdown",
   "id": "71882931-00e3-4aa6-a807-daee77437249",
   "metadata": {},
   "source": [
    "**GOH KHOON SONG**  \n",
    "Data Scientist"
   ]
  },
  {
   "cell_type": "markdown",
   "id": "7963ddd3-f7e8-439c-9394-cda1bad8bd65",
   "metadata": {},
   "source": [
    "*I am interested in Data Science because it stimulates me intellectually.*"
   ]
  },
  {
   "cell_type": "markdown",
   "id": "f57d65e1-8606-4bce-9593-6e13d54df889",
   "metadata": {},
   "source": [
    "<h>My code simply squares the number that is passed into the function</h>"
   ]
  },
  {
   "cell_type": "code",
   "execution_count": 7,
   "id": "27ab0b5a-d6d7-4156-bd4d-5d94e64feefe",
   "metadata": {},
   "outputs": [
    {
     "name": "stdout",
     "output_type": "stream",
     "text": [
      "0\n",
      "1\n",
      "4\n",
      "9\n",
      "16\n",
      "25\n"
     ]
    }
   ],
   "source": [
    "def sq(x):\n",
    "    return x**2\n",
    "\n",
    "for x in range(6):\n",
    "    print(sq(x))"
   ]
  },
  {
   "cell_type": "markdown",
   "id": "1eccc211-fcca-484a-a428-8e50a5182a21",
   "metadata": {},
   "source": [
    "|Function| Language|\n",
    "|--------| ------- |\n",
    "|ML/DL   | Python  |\n",
    "| Stats  | R       |\n",
    "|multi-purpose| ~~Java~~ ~~C++~~ Python!:joy:|"
   ]
  }
 ],
 "metadata": {
  "kernelspec": {
   "display_name": "Python",
   "language": "python",
   "name": "conda-env-python-py"
  },
  "language_info": {
   "codemirror_mode": {
    "name": "ipython",
    "version": 3
   },
   "file_extension": ".py",
   "mimetype": "text/x-python",
   "name": "python",
   "nbconvert_exporter": "python",
   "pygments_lexer": "ipython3",
   "version": "3.7.12"
  }
 },
 "nbformat": 4,
 "nbformat_minor": 5
}
